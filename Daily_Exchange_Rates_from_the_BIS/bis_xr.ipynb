{
 "cells": [
  {
   "cell_type": "code",
   "execution_count": 2,
   "id": "1bf1514f-65df-4ca3-bd9e-d0c15b7fbf58",
   "metadata": {
    "ExecuteTime": {
     "end_time": "2025-01-30T16:13:27.149828Z",
     "start_time": "2025-01-30T16:13:14.636683Z"
    }
   },
   "outputs": [
    {
     "name": "stdout",
     "output_type": "stream",
     "text": [
      "Data successfully saved to BIS_exchange_rates.xlsx\n"
     ]
    }
   ],
   "source": [
    "import pandas as pd\n",
    "import requests\n",
    "\n",
    "# Define the URL\n",
    "url = \"https://stats.bis.org/api/v2/data/dataflow/BIS/WS_XRU/1.0/D...A?startPeriod=2024-01-30&endPeriod=2025-03-23&format=csv\"\n",
    "\n",
    "try:\n",
    "    # Fetch data from the API\n",
    "    response = requests.get(url)\n",
    "    response.raise_for_status()  # Raise an error for HTTP issues (4xx, 5xx)\n",
    "\n",
    "    # Read the CSV content\n",
    "    df = pd.read_csv(url)\n",
    "\n",
    "    # Save data to an Excel file\n",
    "    excel_filename = \"BIS_exchange_rates.xlsx\"\n",
    "    df.to_excel(excel_filename, index=False)\n",
    "\n",
    "    print(f\"Data successfully saved to {excel_filename}\")\n",
    "\n",
    "except requests.exceptions.HTTPError as http_err:\n",
    "    print(f\"HTTP error occurred: {http_err}\")\n",
    "except requests.exceptions.RequestException as err:\n",
    "    print(f\"Other error occurred: {err}\")\n",
    "except Exception as e:\n",
    "    print(f\"An error occurred: {e}\")\n"
   ]
  },
  {
   "cell_type": "code",
   "execution_count": null,
   "id": "0faa6fac-b9fd-492c-98d9-d8237fa2b8f0",
   "metadata": {},
   "outputs": [],
   "source": []
  }
 ],
 "metadata": {
  "kernelspec": {
   "display_name": "base",
   "language": "python",
   "name": "python3"
  },
  "language_info": {
   "codemirror_mode": {
    "name": "ipython",
    "version": 3
   },
   "file_extension": ".py",
   "mimetype": "text/x-python",
   "name": "python",
   "nbconvert_exporter": "python",
   "pygments_lexer": "ipython3",
   "version": "3.11.7"
  }
 },
 "nbformat": 4,
 "nbformat_minor": 5
}
