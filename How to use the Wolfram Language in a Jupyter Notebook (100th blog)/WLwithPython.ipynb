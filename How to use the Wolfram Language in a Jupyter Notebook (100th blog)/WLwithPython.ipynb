{
 "cells": [
  {
   "cell_type": "markdown",
   "id": "a6d985e9",
   "metadata": {},
   "source": [
    "# How to use the Wolfram Language in a Jupyter Notebook"
   ]
  },
  {
   "cell_type": "markdown",
   "id": "78f6a21f",
   "metadata": {},
   "source": [
    "First, you need to have a licence of Mathematica (https://www.wolfram.com/mathematica/pricing/students/)"
   ]
  },
  {
   "cell_type": "markdown",
   "id": "879e124e",
   "metadata": {},
   "source": [
    "Then, install the Wolfram Client Library (https://reference.wolfram.com/language/WolframClientForPython/index.html)"
   ]
  },
  {
   "cell_type": "code",
   "execution_count": 1,
   "id": "77705e45",
   "metadata": {},
   "outputs": [],
   "source": [
    "#pip install wolframclient"
   ]
  },
  {
   "cell_type": "code",
   "execution_count": 2,
   "id": "38e5fc19",
   "metadata": {},
   "outputs": [],
   "source": [
    "#pip install wolframalpha"
   ]
  },
  {
   "cell_type": "markdown",
   "id": "f75dcc49",
   "metadata": {},
   "source": [
    "Ensure that the librairies with pip are installed and restart the kernel. Now, you can start your session with the Wolfram Language (WL). You may need to specify the folder for the Kernel."
   ]
  },
  {
   "cell_type": "code",
   "execution_count": 3,
   "id": "f6b04dcf",
   "metadata": {},
   "outputs": [],
   "source": [
    "from wolframclient.evaluation import WolframLanguageSession\n",
    "from wolframclient.language import wl, wlexpr\n",
    "session = WolframLanguageSession('C:\\\\Program Files\\\\Wolfram Research\\\\Mathematica\\\\13.2\\\\WolframKernel.exe')"
   ]
  },
  {
   "cell_type": "markdown",
   "id": "34270510",
   "metadata": {},
   "source": [
    "Evalutate using Mathematica functions, for example MinMax (https://reference.wolfram.com/language/ref/MinMax.html)"
   ]
  },
  {
   "cell_type": "code",
   "execution_count": 4,
   "id": "9e1eaee3",
   "metadata": {},
   "outputs": [
    {
     "data": {
      "text/plain": [
       "(-3, 9)"
      ]
     },
     "execution_count": 4,
     "metadata": {},
     "output_type": "execute_result"
    }
   ],
   "source": [
    "session.evaluate(wl.MinMax([1, 5, -3, 9]))"
   ]
  },
  {
   "cell_type": "markdown",
   "id": "d0f5455f",
   "metadata": {},
   "source": [
    "Acces the Wolfram Database to retrieve the population density of the world with 'wl' "
   ]
  },
  {
   "cell_type": "code",
   "execution_count": 5,
   "id": "c593ab83",
   "metadata": {},
   "outputs": [
    {
     "data": {
      "text/plain": [
       "Quantity[59.29148808856, Times[Power['Kilometers', -2], 'People']]"
      ]
     },
     "execution_count": 5,
     "metadata": {},
     "output_type": "execute_result"
    }
   ],
   "source": [
    "session.evaluate(wl.WolframAlpha(\"Population density of the world\", \"Result\"))"
   ]
  },
  {
   "cell_type": "markdown",
   "id": "e78c9d00",
   "metadata": {},
   "source": [
    "Create and insert your Wolfram Alpha API ID and ask a query"
   ]
  },
  {
   "cell_type": "code",
   "execution_count": 6,
   "id": "ef728038",
   "metadata": {},
   "outputs": [],
   "source": [
    "import wolframalpha\n",
    "\n",
    "# Replace 'YOUR_APP_ID' with your actual Wolfram Alpha API App ID\n",
    "app_id = '8JWYG6-6W43X7X8HX'\n",
    "client = wolframalpha.Client(app_id)"
   ]
  },
  {
   "cell_type": "code",
   "execution_count": 7,
   "id": "0200eb6a",
   "metadata": {},
   "outputs": [
    {
     "name": "stdout",
     "output_type": "stream",
     "text": [
      "Enter your query: Population density of the world\n",
      "Input interpretation\n",
      "--------------------\n",
      "world | population density\n",
      "\n",
      "Result\n",
      "------\n",
      "59.3 people per square kilometer\n",
      "\n",
      "Population\n",
      "----------\n",
      "population | 7.79 billion people (2020 estimate)\n",
      "population density | 59.3 people/km^2 (people per square kilometer)\n",
      "\n",
      "Unit conversions\n",
      "----------------\n",
      "5.93×10^-5 people per square meter\n",
      "\n",
      "Corresponding quantity\n",
      "----------------------\n",
      "Area per person:\n",
      " | 182000 square feet per person\n",
      "\n"
     ]
    }
   ],
   "source": [
    "query = input(\"Enter your query: \")  # Ask the user for a query\n",
    "res = client.query(query)\n",
    "\n",
    "# Print and display the results\n",
    "for pod in res.pods:\n",
    "    print(pod.title)\n",
    "    print('-' * len(pod.title))\n",
    "    print(pod.text)\n",
    "    print()"
   ]
  },
  {
   "cell_type": "markdown",
   "id": "622dfae0",
   "metadata": {},
   "source": [
    "Evaluate a limit with 'wlexpr'"
   ]
  },
  {
   "cell_type": "code",
   "execution_count": 8,
   "id": "956daa08",
   "metadata": {},
   "outputs": [
    {
     "data": {
      "text/plain": [
       "0"
      ]
     },
     "execution_count": 8,
     "metadata": {},
     "output_type": "execute_result"
    }
   ],
   "source": [
    "limit = wlexpr('Limit[x Log[x^2], x -> 0]')\n",
    "session.evaluate(limit)"
   ]
  },
  {
   "cell_type": "code",
   "execution_count": 9,
   "id": "548adb91",
   "metadata": {},
   "outputs": [
    {
     "name": "stdout",
     "output_type": "stream",
     "text": [
      "Enter your query: Limit of x log(x^2) when x goes to 0\n",
      "Limit\n",
      "-----\n",
      "lim_(x->0) x log(x^2) = 0\n",
      "\n",
      "Expanded logarithmic form\n",
      "-------------------------\n",
      "lim_(x->0) x 2 log(x)\n",
      "\n",
      "Plot\n",
      "----\n",
      "None\n",
      "\n",
      "Series expansion at x = 0\n",
      "-------------------------\n",
      "x log(x^2)\n",
      "\n"
     ]
    }
   ],
   "source": [
    "query = input(\"Enter your query: \")  # Ask the user for a query\n",
    "res = client.query(query)\n",
    "\n",
    "# Print and display the results\n",
    "for pod in res.pods:\n",
    "    print(pod.title)\n",
    "    print('-' * len(pod.title))\n",
    "    print(pod.text)\n",
    "    print()"
   ]
  },
  {
   "cell_type": "markdown",
   "id": "52335c67",
   "metadata": {},
   "source": [
    "Retrieve information on a historical figure"
   ]
  },
  {
   "cell_type": "code",
   "execution_count": 10,
   "id": "7c53289c",
   "metadata": {},
   "outputs": [
    {
     "data": {
      "text/plain": [
       "Entity['Person', 'JRobertOppenheimer::g6wj5']"
      ]
     },
     "execution_count": 10,
     "metadata": {},
     "output_type": "execute_result"
    }
   ],
   "source": [
    "session.evaluate(wl.WolframAlpha(\"J. Robert Oppenheimer\", \"Result\"))"
   ]
  },
  {
   "cell_type": "code",
   "execution_count": 11,
   "id": "2a9b5a92",
   "metadata": {},
   "outputs": [
    {
     "name": "stdout",
     "output_type": "stream",
     "text": [
      "Enter your query: Who was Robert Oppenheimer?\n",
      "Input interpretation\n",
      "--------------------\n",
      "J. Robert Oppenheimer (physicist)\n",
      "\n",
      "Basic information\n",
      "-----------------\n",
      "full name | Julius Robert Oppenheimer\n",
      "date of birth | Friday, April 22, 1904 (119 years ago)\n",
      "place of birth | New York City, New York, United States\n",
      "date of death | Saturday, February 18, 1967 (age: 62 years) (56 years ago)\n",
      "place of death | Princeton, New Jersey, United States\n",
      "\n",
      "Image\n",
      "-----\n",
      "None\n",
      "\n",
      "Timeline\n",
      "--------\n",
      "None\n",
      "\n",
      "Notable facts\n",
      "-------------\n",
      "Theoretical physicist regarded as the father of the atomic bomb for his part in the Manhattan Project during World War II\n",
      "Promoted international control of nuclear power, in order to prevent nuclear proliferation and an arms race\n",
      "Became a chief adviser for the new United States Atomic Energy Commission after World War II\n",
      "Saw his security clearance revoked during the Second Red Scare in response to his outspoken views\n",
      "Taught as a professor of physics and is a key figure in the American school of theoretical physics that rose to note in the 1930s\n",
      "Noted for the Born--Oppenheimer approximation for molecular wave functions, and the Oppenheimer--Phillips process in nuclear fusion\n",
      "\n",
      "Physical characteristics\n",
      "------------------------\n",
      "height | 1.78 meters\n",
      "\n",
      "Familial relationships\n",
      "----------------------\n",
      "Julius S. Oppenheimer | Ella Friedman\n",
      "\n",
      "Scientific contributions\n",
      "------------------------\n",
      "Born-Oppenheimer approximation\n",
      "\n",
      "Notable films\n",
      "-------------\n",
      "Trinity and Beyond: The Atomic Bomb Movie (1995) | Countdown to Zero (2010) | The Day After Trinity (1981) | Atomic Power (1946)\n",
      "\n",
      "Wikipedia summary\n",
      "-----------------\n",
      "J. Robert Oppenheimer (April 22, 1904 - February 18, 1967) was an American theoretical physicist. He was the director of the Los Alamos Laboratory during World War II, and is often credited as the \"father of the atomic bomb\" for his role in the Manhattan Project, the research and development undertaking that created the first nuclear weapons.\n",
      "\n",
      "Wikipedia page hits history\n",
      "---------------------------\n",
      "None\n",
      "\n"
     ]
    }
   ],
   "source": [
    "query = input(\"Enter your query: \")  # Ask the user for a query\n",
    "res = client.query(query)\n",
    "\n",
    "# Print and display the results\n",
    "for pod in res.pods:\n",
    "    print(pod.title)\n",
    "    print('-' * len(pod.title))\n",
    "    print(pod.text)\n",
    "    print()"
   ]
  },
  {
   "cell_type": "markdown",
   "id": "fc9d5c6a",
   "metadata": {},
   "source": [
    "Finally, terminate the session"
   ]
  },
  {
   "cell_type": "code",
   "execution_count": 12,
   "id": "3ff465dd",
   "metadata": {},
   "outputs": [],
   "source": [
    "session.terminate()"
   ]
  }
 ],
 "metadata": {
  "kernelspec": {
   "display_name": "Python 3 (ipykernel)",
   "language": "python",
   "name": "python3"
  },
  "language_info": {
   "codemirror_mode": {
    "name": "ipython",
    "version": 3
   },
   "file_extension": ".py",
   "mimetype": "text/x-python",
   "name": "python",
   "nbconvert_exporter": "python",
   "pygments_lexer": "ipython3",
   "version": "3.10.9"
  }
 },
 "nbformat": 4,
 "nbformat_minor": 5
}
